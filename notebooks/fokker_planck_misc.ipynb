{
 "cells": [
  {
   "cell_type": "code",
   "execution_count": 3,
   "metadata": {},
   "outputs": [],
   "source": [
    "from math import *\n",
    "from scipy.integrate import dblquad\n",
    "import numpy as np\n",
    "from numpy import square as sqr\n",
    "import matplotlib as mpl\n",
    "import matplotlib.pyplot as plt\n",
    "from copy import deepcopy\n",
    "#import plotly.plotly as py\n",
    "import sys,os\n",
    "#sys.path.append(os.path.dirname(__file__), '..','Lib')\n",
    "#sys.path.append(os.path.join('..','Lib'))\n",
    "#from foxlink.stylelib.ase1_styles import ase1_sims_stl, ase1_runs_stl\n",
    "#plt.style.use(ase1_runs_stl)\n",
    "# Solvers for first order PDEs\n",
    "#from sympy.solvers.pde import pdsolve\n",
    "#from sympy import Function, diff, pprint, exp\n",
    "#from sympy.abc import x,y"
   ]
  },
  {
   "cell_type": "code",
   "execution_count": 4,
   "metadata": {},
   "outputs": [],
   "source": [
    "xlink_methods_stl = {\n",
    "    \"axes.titlesize\": 18,\n",
    "    \"axes.labelsize\": 15,\n",
    "    \"lines.linewidth\": 3,\n",
    "    \"lines.markersize\": 10,\n",
    "    \"xtick.labelsize\": 15,\n",
    "    \"ytick.labelsize\": 15,\n",
    "    \"font.size\": 15\n",
    "}\n",
    "plt.style.use(xlink_methods_stl)"
   ]
  },
  {
   "cell_type": "code",
   "execution_count": 5,
   "metadata": {},
   "outputs": [],
   "source": [
    "# Set parameters for partition function integration\n",
    "# Geometric parameters\n",
    "r = 1 # Distance between MT centers\n",
    "a = 0 # Dot product between r unit vector and MT1 direction vector\n",
    "b = 0 # Dot product between r unit vector and MT2 direction vector\n",
    "d = -1 # Dot product between MT1 and MT2 direction vector\n",
    "# Crosslinker parameters\n",
    "k = 4.562 # spring constant of motors\n",
    "ho = 0. # equilibrium length\n",
    "c = 40. # Crosslinker affinity * fugacity\n",
    "# System parameters\n",
    "bt = 1. # beta\n",
    "# MT parameters\n",
    "hL = 10. # Half length of filaments\n",
    "fs = 1. # Stall force of motors\n",
    "ko = 1. # Turnover rate of motors\n",
    "vo = 1. # Base velocity of motors\n",
    "default_params = []\n",
    "default_params_gen = [r, a, b, d, k, ho, c, bt, hL, fs, ko, vo]"
   ]
  },
  {
   "cell_type": "code",
   "execution_count": 6,
   "metadata": {},
   "outputs": [],
   "source": [
    "def create_param_list(var_list, index, base_params=default_params):\n",
    "    param_list = []\n",
    "    for v in var_list:\n",
    "        params = deepcopy(base_params) # Copy over the default parameters\n",
    "        params[index] = v # Change the distance between MTs\n",
    "        param_list += [params] # Add to the param list used in integration steps\n",
    "    return param_list"
   ]
  },
  {
   "cell_type": "code",
   "execution_count": 7,
   "metadata": {},
   "outputs": [],
   "source": [
    "def create_param_list_array( index = 0, p_range = [0,1], n=100, base_params=default_params,):\n",
    "    p_list = np.linspace(p_range[0], p_range[1], n).tolist()\n",
    "    param_list = create_param_list(p_list, index, base_params)\n",
    "    return p_list, np.array(param_list)"
   ]
  },
  {
   "cell_type": "code",
   "execution_count": 8,
   "metadata": {},
   "outputs": [],
   "source": [
    "def para_force21(s1, s2, bp=default_params):\n",
    "    return -k*(bp[0]*bp[2]+s2-s1*bp[3])"
   ]
  },
  {
   "cell_type": "code",
   "execution_count": 9,
   "metadata": {},
   "outputs": [],
   "source": [
    "def para_force12(s1, s2, bp=default_params):\n",
    "    return k*(bp[0]*bp[1]-s1+s2*bp[3])"
   ]
  },
  {
   "cell_type": "code",
   "execution_count": 10,
   "metadata": {},
   "outputs": [],
   "source": [
    "def vel_force(s1, s2, bp=default_params):# bp = base_params\n",
    "    # Only for second head at the moment\n",
    "    alpha = 1. + 2.*(para_force12(s1,s2,bp)/bp[9])\n",
    "    return 1./(1.+exp(-2.*alpha))"
   ]
  },
  {
   "cell_type": "code",
   "execution_count": 11,
   "metadata": {},
   "outputs": [],
   "source": [
    "def dvel_dforce(s1, s2, bp=default_params):# bp = base_params\n",
    "    # Only for second head at the moment\n",
    "    alpha = 1. + 2.*(para_force12(s1,s2,bp)/bp[9])\n",
    "    return -k"
   ]
  },
  {
   "cell_type": "markdown",
   "metadata": {},
   "source": [
    "# Force-velocity relation"
   ]
  },
  {
   "cell_type": "code",
   "execution_count": 12,
   "metadata": {},
   "outputs": [
    {
     "data": {
      "image/png": "[encoded data removed]",
      "text/plain": [
       "<Figure size 720x504 with 1 Axes>"
      ]
     },
     "metadata": {
      "needs_background": "light"
     },
     "output_type": "display_data"
    }
   ],
   "source": [
    "params = deepcopy(default_params_gen)\n",
    "params[0] = 0\n",
    "s2 = 0\n",
    "s1 = np.linspace(-1, 1, 200).tolist()\n",
    "vel = [vel_force(s, s2, params) for s in s1]\n",
    "force = np.array([para_force21(s, s2, params) for s in s1])\n",
    "fig, ax = plt.subplots(figsize=(10,7))\n",
    "lin_vel = np.piecewise(force, \n",
    "                         [force <-1., (force >= -1) & (force < 0), force >= 0], \n",
    "                         [0, lambda force: params[11]*(1.+force/params[9]), 1])\n",
    "ax.plot(force, lin_vel, label=\"Linear\")\n",
    "ax.plot(force, vel, label=\"Smoothed\")\n",
    "ax.axvline(x=0, color='r', linestyle='--', label=\"Zero force\")\n",
    "ax.set_xlabel(\"Normalized parallel force ($F_{\\parallel}/F_s$)\")\n",
    "ax.set_ylabel(\"Normalized motor velocity ($v_g/v_o$)\")\n",
    "ax.set_ylim(0, 1.2)\n",
    "ax.legend()\n",
    "plt.show()"
   ]
  },
  {
   "cell_type": "markdown",
   "metadata": {},
   "source": [
    "# Spring constant compare"
   ]
  },
  {
   "cell_type": "code",
   "execution_count": 62,
   "metadata": {},
   "outputs": [],
   "source": [
    "fs = 2.0\n",
    "ks = .3\n",
    "ho = 52.\n",
    "sep = 25."
   ]
  },
  {
   "cell_type": "code",
   "execution_count": 63,
   "metadata": {},
   "outputs": [],
   "source": [
    "def get_zrl_parallel_spring_const(ks, fs, ho, sep):\n",
    "    a = sep*sep\n",
    "    b = (ks*ks*(ho*ho - sep*sep)) + (fs*fs)\n",
    "    c = -ks*ks*fs*fs\n",
    "    \n",
    "    ks_new = np.sqrt((-1.*b + np.sqrt((b*b)-(4.*a*c)))/(2.*a)) \n",
    "    return ks_new"
   ]
  },
  {
   "cell_type": "code",
   "execution_count": 75,
   "metadata": {},
   "outputs": [],
   "source": [
    "def get_zrl_spring_const(ks, fs, ho, sep):\n",
    "    return ks*fs/(fs+(ho*ks))"
   ]
  },
  {
   "cell_type": "code",
   "execution_count": 76,
   "metadata": {},
   "outputs": [],
   "source": [
    "def get_nzrl_parallel_force(x, ks, ho, sep):\n",
    "    return -1.*ks*x*(1.-(ho/np.sqrt(x*x + sep*sep)))"
   ]
  },
  {
   "cell_type": "code",
   "execution_count": 77,
   "metadata": {},
   "outputs": [],
   "source": [
    "def get_nzrl_force(h, ks, ho):\n",
    "    return -1.*ks*(h-ho)"
   ]
  },
  {
   "cell_type": "code",
   "execution_count": 122,
   "metadata": {},
   "outputs": [
    {
     "name": "stdout",
     "output_type": "stream",
     "text": [
      "0.03409090909090909\n"
     ]
    },
    {
     "data": {
      "image/png": "[encoded data removed]",
      "text/plain": [
       "<Figure size 720x720 with 4 Axes>"
      ]
     },
     "metadata": {
      "needs_background": "light"
     },
     "output_type": "display_data"
    }
   ],
   "source": [
    "#print(ks)\n",
    "ks_new1 = 0.03715512882326001\n",
    "ks_new2 = get_zrl_spring_const(ks, fs, ho, sep)\n",
    "#print(\"Matching distance along filament for parallel:\", fs/ks_new1)\n",
    "#print(\"Matching distance for parallel:\", np.sqrt((fs/ks_new1)**2+sep**2))\n",
    "#print(get_zrl_parallel_force(fs/ks_new1, ks, ho, sep))\n",
    "\n",
    "x = np.linspace(0,1.5*fs/ks_new1, 50)\n",
    "\n",
    "fig, axarr = plt.subplots(2,2,figsize=(10,10))\n",
    "axarr[0,0].plot(x, -ks_new1*x)\n",
    "axarr[0,0].plot(x, get_nzrl_parallel_force(x,ks,ho,sep))\n",
    "axarr[0,0].axhline(y=-fs, color='r', linestyle='--', label=\"Stall force\")\n",
    "axarr[0,0].set_xlabel('Distance along filament (nm)')\n",
    "axarr[0,0].set_ylabel('Force parallel to filament(pN)')\n",
    "axarr[0,0].set_title('Parallel force calculation')\n",
    "axarr[0,1].plot(x, -ks_new1*x)\n",
    "axarr[0,1].plot(x, get_nzrl_force(x,ks,ho,sep))\n",
    "axarr[0,1].axhline(y=-fs, color='r', linestyle='--', label=\"Parallel force\")\n",
    "axarr[0,1].set_xlabel('Protein stretch(nm)')\n",
    "axarr[0,1].set_ylabel('Force (pN)')\n",
    "axarr[0,1].set_title('Total force calculation')\n",
    "axarr[0,1].set_xlim(0,1.5*fs/ks_new1)\n",
    "#axarr[0].set_ylim(-5, 0)\n",
    "\n",
    "\n",
    "print(ks_new2)\n",
    "#print(\"Matching distance along filament for parallel:\", np.sqrt((fs/ks_new1)**2 - sep**2))\n",
    "#print(\"Matching distance for general:\", fs/ks_new2)\n",
    "#print(get_zrl_parallel_force(fs/ks_new1, ks, ho, sep))\n",
    "axarr[1,0].plot(x, -ks_new2*x)\n",
    "axarr[1,0].plot(x, get_nzrl_parallel_force(x,ks,ho,sep))\n",
    "axarr[1,0].axhline(y=-fs, color='r', linestyle='--', label=\"Parallel force\")\n",
    "axarr[1,0].set_xlabel('Distance along filament (nm)')\n",
    "axarr[1,0].set_ylabel('Force parallel to filament(pN)')\n",
    "axarr[1,0].set_title('Parallel force calculation')\n",
    "axarr[1,1].plot(x, -ks_new2*x)\n",
    "axarr[1,1].plot(x, get_nzrl_force(x,ks,ho,sep))\n",
    "axarr[1,1].axhline(y=-fs, color='r', linestyle='--', label=\"Parallel force\")\n",
    "axarr[1,1].set_xlabel('Protein stretch(nm)')\n",
    "axarr[1,1].set_ylabel('Force (pN)')\n",
    "axarr[1,1].set_title('Total force calculation')\n",
    "axarr[1,1].set_xlim(0,1.5*fs/ks_new1)\n",
    "#axarr[1].set_ylim(-5, 0)\n",
    "plt.tight_layout()"
   ]
  },
  {
   "cell_type": "markdown",
   "metadata": {},
   "source": [
    "# Solutions to steady state"
   ]
  },
  {
   "cell_type": "code",
   "execution_count": 11,
   "metadata": {},
   "outputs": [],
   "source": [
    "phi = Function('phi')"
   ]
  },
  {
   "cell_type": "code",
   "execution_count": 12,
   "metadata": {},
   "outputs": [
    {
     "name": "stdout",
     "output_type": "stream",
     "text": [
      "[3 5 8]\n",
      "[ 4 12 15]\n"
     ]
    }
   ],
   "source": [
    "s1_arr = np.asarray([3,5,8])\n",
    "s2_arr = np.asarray([4,12,15])\n",
    "print(s1_arr)\n",
    "print(s2_arr)"
   ]
  },
  {
   "cell_type": "code",
   "execution_count": 13,
   "metadata": {},
   "outputs": [],
   "source": [
    "Y,X = np.meshgrid(s2_arr, s1_arr)"
   ]
  },
  {
   "cell_type": "code",
   "execution_count": 14,
   "metadata": {},
   "outputs": [
    {
     "name": "stdout",
     "output_type": "stream",
     "text": [
      "[[3 3 3]\n",
      " [5 5 5]\n",
      " [8 8 8]]\n",
      "[[ 4 12 15]\n",
      " [ 4 12 15]\n",
      " [ 4 12 15]]\n"
     ]
    }
   ],
   "source": [
    "print(X)\n",
    "print(Y)\n",
    "c = np.sqrt(np.power(X,2)+np.power(Y,2))\n"
   ]
  },
  {
   "cell_type": "code",
   "execution_count": 15,
   "metadata": {},
   "outputs": [
    {
     "name": "stdout",
     "output_type": "stream",
     "text": [
      "('Total time: ', 0.057057857513427734)\n"
     ]
    }
   ],
   "source": [
    "import time\n",
    "a = np.linspace(0,1,1000)\n",
    "b = np.linspace(1,2,1000)\n",
    "X, Y = np.meshgrid(a,b)\n",
    "t0 = time.time()\n",
    "c = np.sqrt(np.power(X,2)+np.power(Y,2))\n",
    "t1 = time.time()\n",
    "print(\"Total time: \", t1-t0)"
   ]
  },
  {
   "cell_type": "code",
   "execution_count": 16,
   "metadata": {},
   "outputs": [
    {
     "name": "stdout",
     "output_type": "stream",
     "text": [
      "('Total time: ', 0.06903910636901855)\n"
     ]
    }
   ],
   "source": [
    "t0 = time.time()\n",
    "c = np.exp(np.power(np.sqrt(np.power(X,2)+np.power(Y,2))-.1,2))\n",
    "t1 = time.time()\n",
    "print(\"Total time: \", t1-t0)"
   ]
  },
  {
   "cell_type": "code",
   "execution_count": 17,
   "metadata": {},
   "outputs": [
    {
     "name": "stdout",
     "output_type": "stream",
     "text": [
      "[[  2.24790799   2.24791001   2.2479161  ...,   5.60377387   5.61419277\n",
      "    5.62464192]\n",
      " [  2.25196418   2.25196621   2.2519723  ...,   5.61421368   5.6246524\n",
      "    5.63512141]\n",
      " [  2.25603221   2.25603425   2.25604035 ...,   5.62468382   5.6351424\n",
      "    5.64563134]\n",
      " ..., \n",
      " [ 36.68604364  36.68607856  36.68618332 ...,  94.75736446  94.93847648\n",
      "   95.12011845]\n",
      " [ 36.82574519  36.82578025  36.82588541 ...,  95.12020949  95.30201844\n",
      "   95.48435939]\n",
      " [ 36.96605281  36.966088    36.96619357 ...,  95.48463357  95.6671425\n",
      "   95.85018547]]\n",
      "(3, 1000000)\n"
     ]
    }
   ],
   "source": [
    "print(c)\n",
    "d = np.asarray([1,2,3])\n",
    "e = np.outer(d,c)\n",
    "print(e.shape)"
   ]
  },
  {
   "cell_type": "code",
   "execution_count": 18,
   "metadata": {},
   "outputs": [
    {
     "name": "stdout",
     "output_type": "stream",
     "text": [
      "(array([0, 1, 2, 3, 4]), array([5, 6, 7, 8]))\n"
     ]
    }
   ],
   "source": [
    "s1 = np.arange(5)\n",
    "s2 = np.arange(5,9)\n",
    "print(s1, s2)\n",
    "u1=np.asarray([1,0,0])\n",
    "u2=np.asarray([0,1,0])\n",
    "S2, S1 = np.meshgrid(s2,s1)"
   ]
  },
  {
   "cell_type": "code",
   "execution_count": 19,
   "metadata": {},
   "outputs": [
    {
     "name": "stdout",
     "output_type": "stream",
     "text": [
      "[[[ 0  5  0]\n",
      "  [ 0  6  0]\n",
      "  [ 0  7  0]\n",
      "  [ 0  8  0]]\n",
      "\n",
      " [[-1  5  0]\n",
      "  [-1  6  0]\n",
      "  [-1  7  0]\n",
      "  [-1  8  0]]\n",
      "\n",
      " [[-2  5  0]\n",
      "  [-2  6  0]\n",
      "  [-2  7  0]\n",
      "  [-2  8  0]]\n",
      "\n",
      " [[-3  5  0]\n",
      "  [-3  6  0]\n",
      "  [-3  7  0]\n",
      "  [-3  8  0]]\n",
      "\n",
      " [[-4  5  0]\n",
      "  [-4  6  0]\n",
      "  [-4  7  0]\n",
      "  [-4  8  0]]]\n"
     ]
    }
   ],
   "source": [
    "hvec = S2[:,:,None]*u2[None,None,:]-S1[:,:,None]*u1[None,None,:]\n",
    "print(hvec)"
   ]
  },
  {
   "cell_type": "code",
   "execution_count": 20,
   "metadata": {},
   "outputs": [
    {
     "name": "stdout",
     "output_type": "stream",
     "text": [
      "[[ 5.          6.          7.          8.        ]\n",
      " [ 5.09901951  6.08276253  7.07106781  8.06225775]\n",
      " [ 5.38516481  6.32455532  7.28010989  8.24621125]\n",
      " [ 5.83095189  6.70820393  7.61577311  8.54400375]\n",
      " [ 6.40312424  7.21110255  8.06225775  8.94427191]]\n"
     ]
    }
   ],
   "source": [
    "A = np.linalg.norm(hvec, axis=2)\n",
    "print(A)"
   ]
  },
  {
   "cell_type": "code",
   "execution_count": 21,
   "metadata": {},
   "outputs": [
    {
     "name": "stdout",
     "output_type": "stream",
     "text": [
      "[[[ 1.  2.  3.]\n",
      "  [ 1.  2.  3.]\n",
      "  [ 1.  2.  3.]\n",
      "  [ 1.  2.  3.]]\n",
      "\n",
      " [[ 1.  2.  3.]\n",
      "  [ 1.  2.  3.]\n",
      "  [ 1.  2.  3.]\n",
      "  [ 1.  2.  3.]]\n",
      "\n",
      " [[ 1.  2.  3.]\n",
      "  [ 1.  2.  3.]\n",
      "  [ 1.  2.  3.]\n",
      "  [ 1.  2.  3.]]\n",
      "\n",
      " [[ 1.  2.  3.]\n",
      "  [ 1.  2.  3.]\n",
      "  [ 1.  2.  3.]\n",
      "  [ 1.  2.  3.]]\n",
      "\n",
      " [[ 1.  2.  3.]\n",
      "  [ 1.  2.  3.]\n",
      "  [ 1.  2.  3.]\n",
      "  [ 1.  2.  3.]]]\n"
     ]
    }
   ],
   "source": [
    "B = np.ones((5,4,3))\n",
    "B[:,:,1]*=2\n",
    "B[:,:,2]*=3\n",
    "print(B)"
   ]
  },
  {
   "cell_type": "code",
   "execution_count": 22,
   "metadata": {},
   "outputs": [],
   "source": [
    "C = A[:,:,None]*B[:,:,:]"
   ]
  },
  {
   "cell_type": "code",
   "execution_count": 23,
   "metadata": {},
   "outputs": [
    {
     "name": "stdout",
     "output_type": "stream",
     "text": [
      "[[[  5.          10.          15.        ]\n",
      "  [  6.          12.          18.        ]\n",
      "  [  7.          14.          21.        ]\n",
      "  [  8.          16.          24.        ]]\n",
      "\n",
      " [[  5.09901951  10.19803903  15.29705854]\n",
      "  [  6.08276253  12.16552506  18.24828759]\n",
      "  [  7.07106781  14.14213562  21.21320344]\n",
      "  [  8.06225775  16.1245155   24.18677324]]\n",
      "\n",
      " [[  5.38516481  10.77032961  16.15549442]\n",
      "  [  6.32455532  12.64911064  18.97366596]\n",
      "  [  7.28010989  14.56021978  21.84032967]\n",
      "  [  8.24621125  16.4924225   24.73863375]]\n",
      "\n",
      " [[  5.83095189  11.66190379  17.49285568]\n",
      "  [  6.70820393  13.41640786  20.1246118 ]\n",
      "  [  7.61577311  15.23154621  22.84731932]\n",
      "  [  8.54400375  17.08800749  25.63201124]]\n",
      "\n",
      " [[  6.40312424  12.80624847  19.20937271]\n",
      "  [  7.21110255  14.4222051   21.63330765]\n",
      "  [  8.06225775  16.1245155   24.18677324]\n",
      "  [  8.94427191  17.88854382  26.83281573]]]\n"
     ]
    }
   ],
   "source": [
    "print(C)"
   ]
  },
  {
   "cell_type": "code",
   "execution_count": 24,
   "metadata": {},
   "outputs": [
    {
     "name": "stdout",
     "output_type": "stream",
     "text": [
      "[ 138.870838    277.74167599  416.61251399]\n"
     ]
    }
   ],
   "source": [
    "print(C.sum(axis=(0,1)))"
   ]
  },
  {
   "cell_type": "code",
   "execution_count": 25,
   "metadata": {},
   "outputs": [
    {
     "name": "stdout",
     "output_type": "stream",
     "text": [
      "[[1 0 0]\n",
      " [0 1 0]\n",
      " [0 0 1]\n",
      " [1 0 0]]\n"
     ]
    }
   ],
   "source": [
    "v = np.asarray([[1,0,0],[0,1,0],[0,0,1],[1,0,0]])\n",
    "print(v)"
   ]
  },
  {
   "cell_type": "code",
   "execution_count": 26,
   "metadata": {},
   "outputs": [],
   "source": [
    "D = np.cross(v,C)"
   ]
  },
  {
   "cell_type": "code",
   "execution_count": 27,
   "metadata": {},
   "outputs": [
    {
     "name": "stdout",
     "output_type": "stream",
     "text": [
      "[[[  0.         -15.          10.        ]\n",
      "  [ 18.           0.          -6.        ]\n",
      "  [-14.           7.           0.        ]\n",
      "  [  0.         -24.          16.        ]]\n",
      "\n",
      " [[  0.         -15.29705854  10.19803903]\n",
      "  [ 18.24828759   0.          -6.08276253]\n",
      "  [-14.14213562   7.07106781   0.        ]\n",
      "  [  0.         -24.18677324  16.1245155 ]]\n",
      "\n",
      " [[  0.         -16.15549442  10.77032961]\n",
      "  [ 18.97366596   0.          -6.32455532]\n",
      "  [-14.56021978   7.28010989   0.        ]\n",
      "  [  0.         -24.73863375  16.4924225 ]]\n",
      "\n",
      " [[  0.         -17.49285568  11.66190379]\n",
      "  [ 20.1246118    0.          -6.70820393]\n",
      "  [-15.23154621   7.61577311   0.        ]\n",
      "  [  0.         -25.63201124  17.08800749]]\n",
      "\n",
      " [[  0.         -19.20937271  12.80624847]\n",
      "  [ 21.63330765   0.          -7.21110255]\n",
      "  [-16.1245155    8.06225775   0.        ]\n",
      "  [  0.         -26.83281573  17.88854382]]]\n"
     ]
    }
   ],
   "source": [
    "print(D)"
   ]
  },
  {
   "cell_type": "code",
   "execution_count": 28,
   "metadata": {},
   "outputs": [
    {
     "name": "stdout",
     "output_type": "stream",
     "text": [
      "[[1 2 3]\n",
      " [2 4 6]\n",
      " [3 6 9]]\n"
     ]
    }
   ],
   "source": [
    "u = np.asarray([1,2,3])\n",
    "uu = np.outer(u,u)\n",
    "print(uu)"
   ]
  },
  {
   "cell_type": "code",
   "execution_count": 29,
   "metadata": {},
   "outputs": [
    {
     "data": {
      "text/plain": [
       "array([[ 1,  4,  9],\n",
       "       [ 4, 16, 36],\n",
       "       [ 9, 36, 81]])"
      ]
     },
     "execution_count": 29,
     "metadata": {},
     "output_type": "execute_result"
    }
   ],
   "source": [
    "np.power(uu,2)"
   ]
  },
  {
   "cell_type": "code",
   "execution_count": 30,
   "metadata": {},
   "outputs": [
    {
     "name": "stdout",
     "output_type": "stream",
     "text": [
      "[[ 1.  0.  0.]\n",
      " [ 0.  1.  0.]\n",
      " [ 0.  0.  1.]]\n"
     ]
    }
   ],
   "source": [
    "Iish = np.eye(3)\n",
    "print(Iish)"
   ]
  },
  {
   "cell_type": "markdown",
   "metadata": {
    "heading_collapsed": true
   },
   "source": [
    "# Source testing"
   ]
  },
  {
   "cell_type": "code",
   "execution_count": null,
   "metadata": {
    "hidden": true
   },
   "outputs": [],
   "source": []
  }
 ],
 "metadata": {
  "kernelspec": {
   "display_name": "Python 2",
   "language": "python",
   "name": "python2"
  },
  "language_info": {
   "codemirror_mode": {
    "name": "ipython",
    "version": 3
   },
   "file_extension": ".py",
   "mimetype": "text/x-python",
   "name": "python",
   "nbconvert_exporter": "python",
   "pygments_lexer": "ipython3",
   "version": "3.7.3"
  }
 },
 "nbformat": 4,
 "nbformat_minor": 2
}
